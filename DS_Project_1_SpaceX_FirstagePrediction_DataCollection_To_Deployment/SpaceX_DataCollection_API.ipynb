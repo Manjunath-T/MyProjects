{
 "cells": [
  {
   "cell_type": "markdown",
   "id": "57e6794d",
   "metadata": {},
   "source": [
    "<h3>SpaceX Falcon 9 first stage Landing Data Collection using API and Data Wrangilng</h3>"
   ]
  },
  {
   "cell_type": "code",
   "execution_count": 38,
   "id": "f231b535",
   "metadata": {},
   "outputs": [],
   "source": [
    "import requests\n",
    "import pandas as pd\n",
    "import datetime\n",
    "import numpy as np"
   ]
  },
  {
   "cell_type": "markdown",
   "id": "3a0be648",
   "metadata": {},
   "source": [
    "1. Request the rocket launch data from SpaceX API ( https://api.spacexdata.com/v4/launches/past )"
   ]
  },
  {
   "cell_type": "code",
   "execution_count": 39,
   "id": "0db4385a",
   "metadata": {},
   "outputs": [
    {
     "data": {
      "text/plain": [
       "200"
      ]
     },
     "execution_count": 39,
     "metadata": {},
     "output_type": "execute_result"
    }
   ],
   "source": [
    "spacex_url=\"https://api.spacexdata.com/v4/launches/past\"\n",
    "response = requests.get(spacex_url)\n",
    "response.status_code"
   ]
  },
  {
   "cell_type": "markdown",
   "id": "79940b12",
   "metadata": {},
   "source": [
    "2. Decode the response content as a Json using .json() and turn it into a Pandas dataframe using .json_normalize()"
   ]
  },
  {
   "cell_type": "code",
   "execution_count": 40,
   "id": "67bec598",
   "metadata": {},
   "outputs": [],
   "source": [
    "json_data = response.json()\n",
    "\n",
    "# Use json_normalize meethod to convert the json result into a dataframe\n",
    "data = pd.json_normalize(json_data)\n",
    "#data.head()"
   ]
  },
  {
   "cell_type": "markdown",
   "id": "8137dc3c",
   "metadata": {},
   "source": [
    "3. Remove/Replace the Un usefull and repeated columns"
   ]
  },
  {
   "cell_type": "code",
   "execution_count": 41,
   "id": "965108bb",
   "metadata": {},
   "outputs": [],
   "source": [
    "# Lets take a subset of our dataframe keeping only the features we want and the flight number, and date_utc.\n",
    "data = data[['rocket', 'payloads', 'launchpad', 'cores', 'flight_number', 'date_utc']]\n",
    "\n",
    "# We will remove rows with multiple cores because those are falcon rockets with 2 extra rocket boosters \n",
    "#and rows that have multiple payloads in a single rocket.\n",
    "\n",
    "data = data[data['cores'].map(len)==1]\n",
    "data = data[data['payloads'].map(len)==1]\n",
    "\n",
    "# Since payloads and cores are lists of size 1 we will also extract the single value in the list and replace the feature.\n",
    "data['cores'] = data['cores'].map(lambda x : x[0])\n",
    "data['payloads'] = data['payloads'].map(lambda x : x[0])\n",
    "\n",
    "# We also want to convert the date_utc to a datetime datatype and then extracting the date leaving the time\n",
    "data['date'] = pd.to_datetime(data['date_utc']).dt.date\n",
    "\n",
    "# Using the date we will restrict the dates of the launches\n",
    "data = data[data['date'] <= datetime.date(2020, 11, 13)]"
   ]
  },
  {
   "cell_type": "markdown",
   "id": "af9f5151",
   "metadata": {},
   "source": [
    "4. Use the data from API requests and store it in lists [will be used to create a new dataframe]"
   ]
  },
  {
   "cell_type": "code",
   "execution_count": 42,
   "id": "7cbb16cc",
   "metadata": {},
   "outputs": [],
   "source": [
    "#Global variables \n",
    "BoosterVersion = []\n",
    "PayloadMass = []\n",
    "Orbit = []\n",
    "LaunchSite = []\n",
    "Outcome = []\n",
    "Flights = []\n",
    "GridFins = []\n",
    "Reused = []\n",
    "Legs = []\n",
    "LandingPad = []\n",
    "Block = []\n",
    "ReusedCount = []\n",
    "Serial = []\n",
    "Longitude = []\n",
    "Latitude = []"
   ]
  },
  {
   "cell_type": "markdown",
   "id": "8e41e2d0",
   "metadata": {},
   "source": [
    "5. Write Methods to get the booster version, LaunchSite, PayloadData, CoreData\n"
   ]
  },
  {
   "cell_type": "code",
   "execution_count": 43,
   "id": "bcffc73a",
   "metadata": {},
   "outputs": [],
   "source": [
    "# Takes the dataset and uses the rocket column to call the API and append the data to the list\n",
    "def getBoosterVersion(data):\n",
    "    for x in data['rocket']:\n",
    "        response = requests.get(\"https://api.spacexdata.com/v4/rockets/\"+str(x)).json()\n",
    "        BoosterVersion.append(response['name'])\n",
    "        \n",
    "# Takes the dataset and uses the launchpad column to call the API and append the data to the list\n",
    "def getLaunchSite(data):\n",
    "    for x in data['launchpad']:\n",
    "        response = requests.get(\"https://api.spacexdata.com/v4/launchpads/\"+str(x)).json()\n",
    "        Longitude.append(response['longitude'])\n",
    "        Latitude.append(response['latitude'])\n",
    "        LaunchSite.append(response['name'])\n",
    "        \n",
    "# Takes the dataset and uses the payloads column to call the API and append the data to the lists\n",
    "def getPayloadData(data):\n",
    "    for load in data['payloads']:\n",
    "        response = requests.get(\"https://api.spacexdata.com/v4/payloads/\"+load).json()\n",
    "        PayloadMass.append(response['mass_kg'])\n",
    "        Orbit.append(response['orbit'])\n",
    "        \n",
    "# Takes the dataset and uses the cores column to call the API and append the data to the lists\n",
    "def getCoreData(data):\n",
    "    for core in data['cores']:\n",
    "            if core['core'] != None:\n",
    "                response = requests.get(\"https://api.spacexdata.com/v4/cores/\"+core['core']).json()\n",
    "                Block.append(response['block'])\n",
    "                ReusedCount.append(response['reuse_count'])\n",
    "                Serial.append(response['serial'])\n",
    "            else:\n",
    "                Block.append(None)\n",
    "                ReusedCount.append(None)\n",
    "                Serial.append(None)\n",
    "            Outcome.append(str(core['landing_success'])+' '+str(core['landing_type']))\n",
    "            Flights.append(core['flight'])\n",
    "            GridFins.append(core['gridfins'])\n",
    "            Reused.append(core['reused'])\n",
    "            Legs.append(core['legs'])\n",
    "            LandingPad.append(core['landpad'])"
   ]
  },
  {
   "cell_type": "markdown",
   "id": "cf21ebbb",
   "metadata": {},
   "source": [
    "6. Call the methods to fetch the data"
   ]
  },
  {
   "cell_type": "code",
   "execution_count": 44,
   "id": "0be03cc0",
   "metadata": {},
   "outputs": [],
   "source": [
    "# Call getBoosterVersion\n",
    "getBoosterVersion(data)\n",
    "\n",
    "# Call getLaunchSite\n",
    "getLaunchSite(data)\n",
    "\n",
    "# Call getPayloadData\n",
    "getPayloadData(data)\n",
    "\n",
    "# Call getCoreData\n",
    "getCoreData(data)"
   ]
  },
  {
   "cell_type": "markdown",
   "id": "4317e41c",
   "metadata": {},
   "source": [
    "7. Construct the dataset using the data we have obtained. By combining the columns into a dictionary"
   ]
  },
  {
   "cell_type": "code",
   "execution_count": 45,
   "id": "72ba49c4",
   "metadata": {},
   "outputs": [],
   "source": [
    "launch_dict = {'FlightNumber': list(data['flight_number']),\n",
    "'Date': list(data['date']),\n",
    "'BoosterVersion':BoosterVersion,\n",
    "'PayloadMass':PayloadMass,\n",
    "'Orbit':Orbit,\n",
    "'LaunchSite':LaunchSite,\n",
    "'Outcome':Outcome,\n",
    "'Flights':Flights,\n",
    "'GridFins':GridFins,\n",
    "'Reused':Reused,\n",
    "'Legs':Legs,\n",
    "'LandingPad':LandingPad,\n",
    "'Block':Block,\n",
    "'ReusedCount':ReusedCount,\n",
    "'Serial':Serial,\n",
    "'Longitude': Longitude,\n",
    "'Latitude': Latitude}\n",
    "\n",
    "# Create a data from launch_dict\n",
    "df = pd.DataFrame(launch_dict)\n"
   ]
  },
  {
   "cell_type": "markdown",
   "id": "e006a274",
   "metadata": {},
   "source": [
    "8. Removing the Falcon 1 launches to keep only the Falcon 9 launches. \n",
    "    Filter the dataframe using the BoosterVersion column to only keep the Falcon 9 launches."
   ]
  },
  {
   "cell_type": "code",
   "execution_count": 46,
   "id": "7c939549",
   "metadata": {},
   "outputs": [],
   "source": [
    "data_falcon9 = df[df['BoosterVersion']!='Falcon 1']"
   ]
  },
  {
   "cell_type": "markdown",
   "id": "1e7e655d",
   "metadata": {},
   "source": [
    "9. Rearrange the FlgihtNumber column"
   ]
  },
  {
   "cell_type": "code",
   "execution_count": 47,
   "id": "d774f049",
   "metadata": {},
   "outputs": [
    {
     "name": "stderr",
     "output_type": "stream",
     "text": [
      "C:\\ProgramData\\Anaconda3\\lib\\site-packages\\pandas\\core\\indexing.py:1676: SettingWithCopyWarning: \n",
      "A value is trying to be set on a copy of a slice from a DataFrame.\n",
      "Try using .loc[row_indexer,col_indexer] = value instead\n",
      "\n",
      "See the caveats in the documentation: https://pandas.pydata.org/pandas-docs/stable/user_guide/indexing.html#returning-a-view-versus-a-copy\n",
      "  self._setitem_single_column(ilocs[0], value, pi)\n"
     ]
    }
   ],
   "source": [
    "data_falcon9.loc[:,'FlightNumber'] = list(range(1, data_falcon9.shape[0]+1))"
   ]
  },
  {
   "cell_type": "markdown",
   "id": "c769ccc0",
   "metadata": {},
   "source": [
    "<h2> Data Wrangling </h2>"
   ]
  },
  {
   "cell_type": "code",
   "execution_count": 48,
   "id": "c26e4e62",
   "metadata": {},
   "outputs": [
    {
     "data": {
      "text/plain": [
       "FlightNumber       0\n",
       "Date               0\n",
       "BoosterVersion     0\n",
       "PayloadMass        5\n",
       "Orbit              0\n",
       "LaunchSite         0\n",
       "Outcome            0\n",
       "Flights            0\n",
       "GridFins           0\n",
       "Reused             0\n",
       "Legs               0\n",
       "LandingPad        26\n",
       "Block              0\n",
       "ReusedCount        0\n",
       "Serial             0\n",
       "Longitude          0\n",
       "Latitude           0\n",
       "dtype: int64"
      ]
     },
     "execution_count": 48,
     "metadata": {},
     "output_type": "execute_result"
    }
   ],
   "source": [
    "data_falcon9.isnull().sum()"
   ]
  },
  {
   "cell_type": "markdown",
   "id": "6418ba7c",
   "metadata": {},
   "source": [
    "We can see below that some of the rows are missing values in our dataset as displyed above."
   ]
  },
  {
   "cell_type": "markdown",
   "id": "d862d773",
   "metadata": {},
   "source": [
    "<b>Dealing with Missing Values</b>"
   ]
  },
  {
   "cell_type": "markdown",
   "id": "a95707c3",
   "metadata": {},
   "source": [
    "1. Calculate the mean for the PayloadMass. Then replace np.nan values in the data with the mean."
   ]
  },
  {
   "cell_type": "code",
   "execution_count": 49,
   "id": "ff0f51d5",
   "metadata": {},
   "outputs": [
    {
     "name": "stderr",
     "output_type": "stream",
     "text": [
      "C:\\ProgramData\\Anaconda3\\lib\\site-packages\\pandas\\core\\frame.py:4462: SettingWithCopyWarning: \n",
      "A value is trying to be set on a copy of a slice from a DataFrame\n",
      "\n",
      "See the caveats in the documentation: https://pandas.pydata.org/pandas-docs/stable/user_guide/indexing.html#returning-a-view-versus-a-copy\n",
      "  return super().fillna(\n"
     ]
    }
   ],
   "source": [
    "# Calculate the mean value of PayloadMass column\n",
    "Payloadmassmean = data_falcon9['PayloadMass'].mean()\n",
    "\n",
    "# Replace the np.nan values with its mean value\n",
    "data_falcon9.fillna(Payloadmassmean, inplace=True)\n"
   ]
  },
  {
   "cell_type": "code",
   "execution_count": 50,
   "id": "2bcc39f3",
   "metadata": {},
   "outputs": [
    {
     "data": {
      "text/plain": [
       "FlightNumber      0\n",
       "Date              0\n",
       "BoosterVersion    0\n",
       "PayloadMass       0\n",
       "Orbit             0\n",
       "LaunchSite        0\n",
       "Outcome           0\n",
       "Flights           0\n",
       "GridFins          0\n",
       "Reused            0\n",
       "Legs              0\n",
       "LandingPad        0\n",
       "Block             0\n",
       "ReusedCount       0\n",
       "Serial            0\n",
       "Longitude         0\n",
       "Latitude          0\n",
       "dtype: int64"
      ]
     },
     "execution_count": 50,
     "metadata": {},
     "output_type": "execute_result"
    }
   ],
   "source": [
    "data_falcon9.isnull().sum()"
   ]
  },
  {
   "cell_type": "code",
   "execution_count": null,
   "id": "56ee9d66",
   "metadata": {},
   "outputs": [],
   "source": []
  },
  {
   "cell_type": "code",
   "execution_count": null,
   "id": "a6226e07",
   "metadata": {},
   "outputs": [],
   "source": []
  },
  {
   "cell_type": "code",
   "execution_count": null,
   "id": "25b117e5",
   "metadata": {},
   "outputs": [],
   "source": []
  }
 ],
 "metadata": {
  "kernelspec": {
   "display_name": "Python 3",
   "language": "python",
   "name": "python3"
  },
  "language_info": {
   "codemirror_mode": {
    "name": "ipython",
    "version": 3
   },
   "file_extension": ".py",
   "mimetype": "text/x-python",
   "name": "python",
   "nbconvert_exporter": "python",
   "pygments_lexer": "ipython3",
   "version": "3.8.8"
  }
 },
 "nbformat": 4,
 "nbformat_minor": 5
}
