{
 "cells": [
  {
   "cell_type": "markdown",
   "id": "5e7f55cd",
   "metadata": {},
   "source": [
    "1.Import Libraries"
   ]
  },
  {
   "cell_type": "code",
   "execution_count": 60,
   "id": "171c38cc",
   "metadata": {},
   "outputs": [],
   "source": [
    "import pandas as pd\n",
    "import numpy as np\n",
    "import matplotlib.pyplot as plt\n",
    "import seaborn as sns\n",
    "from sklearn import preprocessing\n",
    "from sklearn.model_selection import train_test_split\n",
    "from sklearn.model_selection import GridSearchCV\n",
    "from sklearn.linear_model import LogisticRegression\n",
    "from sklearn.svm import SVC\n",
    "from sklearn.tree import DecisionTreeClassifier\n",
    "from sklearn.neighbors import KNeighborsClassifier"
   ]
  },
  {
   "cell_type": "markdown",
   "id": "9988276e",
   "metadata": {},
   "source": [
    "2.Load the data"
   ]
  },
  {
   "cell_type": "code",
   "execution_count": 61,
   "id": "c3bdfe83",
   "metadata": {},
   "outputs": [
    {
     "data": {
      "text/html": [
       "<div>\n",
       "<style scoped>\n",
       "    .dataframe tbody tr th:only-of-type {\n",
       "        vertical-align: middle;\n",
       "    }\n",
       "\n",
       "    .dataframe tbody tr th {\n",
       "        vertical-align: top;\n",
       "    }\n",
       "\n",
       "    .dataframe thead th {\n",
       "        text-align: right;\n",
       "    }\n",
       "</style>\n",
       "<table border=\"1\" class=\"dataframe\">\n",
       "  <thead>\n",
       "    <tr style=\"text-align: right;\">\n",
       "      <th></th>\n",
       "      <th>FlightNumber</th>\n",
       "      <th>Date</th>\n",
       "      <th>BoosterVersion</th>\n",
       "      <th>PayloadMass</th>\n",
       "      <th>Orbit</th>\n",
       "      <th>LaunchSite</th>\n",
       "      <th>Outcome</th>\n",
       "      <th>Flights</th>\n",
       "      <th>GridFins</th>\n",
       "      <th>Reused</th>\n",
       "      <th>Legs</th>\n",
       "      <th>LandingPad</th>\n",
       "      <th>Block</th>\n",
       "      <th>ReusedCount</th>\n",
       "      <th>Serial</th>\n",
       "      <th>Longitude</th>\n",
       "      <th>Latitude</th>\n",
       "      <th>Class</th>\n",
       "    </tr>\n",
       "  </thead>\n",
       "  <tbody>\n",
       "    <tr>\n",
       "      <th>0</th>\n",
       "      <td>1</td>\n",
       "      <td>2010-06-04</td>\n",
       "      <td>Falcon 9</td>\n",
       "      <td>6104.959412</td>\n",
       "      <td>LEO</td>\n",
       "      <td>CCAFS SLC 40</td>\n",
       "      <td>None None</td>\n",
       "      <td>1</td>\n",
       "      <td>False</td>\n",
       "      <td>False</td>\n",
       "      <td>False</td>\n",
       "      <td>NaN</td>\n",
       "      <td>1.0</td>\n",
       "      <td>0</td>\n",
       "      <td>B0003</td>\n",
       "      <td>-80.577366</td>\n",
       "      <td>28.561857</td>\n",
       "      <td>0</td>\n",
       "    </tr>\n",
       "    <tr>\n",
       "      <th>1</th>\n",
       "      <td>2</td>\n",
       "      <td>2012-05-22</td>\n",
       "      <td>Falcon 9</td>\n",
       "      <td>525.000000</td>\n",
       "      <td>LEO</td>\n",
       "      <td>CCAFS SLC 40</td>\n",
       "      <td>None None</td>\n",
       "      <td>1</td>\n",
       "      <td>False</td>\n",
       "      <td>False</td>\n",
       "      <td>False</td>\n",
       "      <td>NaN</td>\n",
       "      <td>1.0</td>\n",
       "      <td>0</td>\n",
       "      <td>B0005</td>\n",
       "      <td>-80.577366</td>\n",
       "      <td>28.561857</td>\n",
       "      <td>0</td>\n",
       "    </tr>\n",
       "    <tr>\n",
       "      <th>2</th>\n",
       "      <td>3</td>\n",
       "      <td>2013-03-01</td>\n",
       "      <td>Falcon 9</td>\n",
       "      <td>677.000000</td>\n",
       "      <td>ISS</td>\n",
       "      <td>CCAFS SLC 40</td>\n",
       "      <td>None None</td>\n",
       "      <td>1</td>\n",
       "      <td>False</td>\n",
       "      <td>False</td>\n",
       "      <td>False</td>\n",
       "      <td>NaN</td>\n",
       "      <td>1.0</td>\n",
       "      <td>0</td>\n",
       "      <td>B0007</td>\n",
       "      <td>-80.577366</td>\n",
       "      <td>28.561857</td>\n",
       "      <td>0</td>\n",
       "    </tr>\n",
       "    <tr>\n",
       "      <th>3</th>\n",
       "      <td>4</td>\n",
       "      <td>2013-09-29</td>\n",
       "      <td>Falcon 9</td>\n",
       "      <td>500.000000</td>\n",
       "      <td>PO</td>\n",
       "      <td>VAFB SLC 4E</td>\n",
       "      <td>False Ocean</td>\n",
       "      <td>1</td>\n",
       "      <td>False</td>\n",
       "      <td>False</td>\n",
       "      <td>False</td>\n",
       "      <td>NaN</td>\n",
       "      <td>1.0</td>\n",
       "      <td>0</td>\n",
       "      <td>B1003</td>\n",
       "      <td>-120.610829</td>\n",
       "      <td>34.632093</td>\n",
       "      <td>0</td>\n",
       "    </tr>\n",
       "    <tr>\n",
       "      <th>4</th>\n",
       "      <td>5</td>\n",
       "      <td>2013-12-03</td>\n",
       "      <td>Falcon 9</td>\n",
       "      <td>3170.000000</td>\n",
       "      <td>GTO</td>\n",
       "      <td>CCAFS SLC 40</td>\n",
       "      <td>None None</td>\n",
       "      <td>1</td>\n",
       "      <td>False</td>\n",
       "      <td>False</td>\n",
       "      <td>False</td>\n",
       "      <td>NaN</td>\n",
       "      <td>1.0</td>\n",
       "      <td>0</td>\n",
       "      <td>B1004</td>\n",
       "      <td>-80.577366</td>\n",
       "      <td>28.561857</td>\n",
       "      <td>0</td>\n",
       "    </tr>\n",
       "  </tbody>\n",
       "</table>\n",
       "</div>"
      ],
      "text/plain": [
       "   FlightNumber        Date BoosterVersion  PayloadMass Orbit    LaunchSite  \\\n",
       "0             1  2010-06-04       Falcon 9  6104.959412   LEO  CCAFS SLC 40   \n",
       "1             2  2012-05-22       Falcon 9   525.000000   LEO  CCAFS SLC 40   \n",
       "2             3  2013-03-01       Falcon 9   677.000000   ISS  CCAFS SLC 40   \n",
       "3             4  2013-09-29       Falcon 9   500.000000    PO   VAFB SLC 4E   \n",
       "4             5  2013-12-03       Falcon 9  3170.000000   GTO  CCAFS SLC 40   \n",
       "\n",
       "       Outcome  Flights  GridFins  Reused   Legs LandingPad  Block  \\\n",
       "0    None None        1     False   False  False        NaN    1.0   \n",
       "1    None None        1     False   False  False        NaN    1.0   \n",
       "2    None None        1     False   False  False        NaN    1.0   \n",
       "3  False Ocean        1     False   False  False        NaN    1.0   \n",
       "4    None None        1     False   False  False        NaN    1.0   \n",
       "\n",
       "   ReusedCount Serial   Longitude   Latitude  Class  \n",
       "0            0  B0003  -80.577366  28.561857      0  \n",
       "1            0  B0005  -80.577366  28.561857      0  \n",
       "2            0  B0007  -80.577366  28.561857      0  \n",
       "3            0  B1003 -120.610829  34.632093      0  \n",
       "4            0  B1004  -80.577366  28.561857      0  "
      ]
     },
     "execution_count": 61,
     "metadata": {},
     "output_type": "execute_result"
    }
   ],
   "source": [
    "data = pd.read_csv(\"https://cf-courses-data.s3.us.cloud-object-storage.appdomain.cloud/IBM-DS0321EN-SkillsNetwork/datasets/dataset_part_2.csv\")\n",
    "#data = pd.read_csv('dataset_part_2.csv')\n",
    "data.head()"
   ]
  },
  {
   "cell_type": "markdown",
   "id": "d45bce8d",
   "metadata": {},
   "source": [
    "3. Store the Dependent:Y[predict] and Independent variables:X"
   ]
  },
  {
   "cell_type": "code",
   "execution_count": 62,
   "id": "5a6b2f20",
   "metadata": {},
   "outputs": [],
   "source": [
    "X = pd.read_csv('https://cf-courses-data.s3.us.cloud-object-storage.appdomain.cloud/IBM-DS0321EN-SkillsNetwork/datasets/dataset_part_3.csv')\n",
    "#X = pd.read_csv('dataset_part_3.csv')\n",
    "\n",
    "Y = data['Class'].to_numpy()\n"
   ]
  },
  {
   "cell_type": "markdown",
   "id": "e8d6d544",
   "metadata": {},
   "source": [
    "4. Standardize the data in X then reassign it to the variable X [Independent Variables]"
   ]
  },
  {
   "cell_type": "code",
   "execution_count": 63,
   "id": "4371b552",
   "metadata": {},
   "outputs": [],
   "source": [
    "transform = preprocessing.StandardScaler()\n",
    "X = transform.fit_transform(X)"
   ]
  },
  {
   "cell_type": "markdown",
   "id": "13aad52a",
   "metadata": {},
   "source": [
    "5. Use the function train_test_split to split the data X and Y into training and test data"
   ]
  },
  {
   "cell_type": "code",
   "execution_count": 64,
   "id": "3ddc6aaf",
   "metadata": {},
   "outputs": [
    {
     "data": {
      "text/plain": [
       "(18,)"
      ]
     },
     "execution_count": 64,
     "metadata": {},
     "output_type": "execute_result"
    }
   ],
   "source": [
    "X_train, X_test, Y_train, Y_test = train_test_split(X, Y,test_size=0.2, random_state=2)\n",
    "Y_test.shape"
   ]
  },
  {
   "cell_type": "code",
   "execution_count": 65,
   "id": "85760873",
   "metadata": {},
   "outputs": [],
   "source": [
    "from sklearn.metrics import confusion_matrix\n",
    "\n",
    "def plot_confusion_matrix(y, y_predict):\n",
    "    \"This function plots the confusion matrix\"\n",
    "    \n",
    "    cm = confusion_matrix(y, y_predict)\n",
    "    ax = plt.subplot()\n",
    "    sns.heatmap(cm, annot=True, ax = ax); #annot=True to annotate cells\n",
    "    ax.set_xlabel('Predicted labels')\n",
    "    ax.set_ylabel('True labels')\n",
    "    ax.set_title('Confusion Matrix'); \n",
    "    ax.xaxis.set_ticklabels(['did not land', 'land']); ax.yaxis.set_ticklabels(['did not land', 'landed'])"
   ]
  },
  {
   "cell_type": "markdown",
   "id": "44243063",
   "metadata": {},
   "source": [
    "6. Create a <b>Logistic Regression</b> object and Create a <b>GridSearchCV </b>object and Fit the Logistic regression object to find the best parameters from the dictionary parameters"
   ]
  },
  {
   "cell_type": "code",
   "execution_count": 66,
   "id": "45c1a9ed",
   "metadata": {},
   "outputs": [
    {
     "name": "stdout",
     "output_type": "stream",
     "text": [
      "Tuned hpyerparameters :(best parameters)  {'C': 0.01, 'penalty': 'l2', 'solver': 'lbfgs'}\n",
      "Validation Data Accuracy : 0.8464285714285713\n",
      "Test Data Accuracy:  0.8333333333333334\n"
     ]
    },
    {
     "data": {
      "image/png": "[encoded data removed]",
      "text/plain": [
       "<Figure size 648x288 with 2 Axes>"
      ]
     },
     "metadata": {
      "needs_background": "light"
     },
     "output_type": "display_data"
    }
   ],
   "source": [
    "lr = LogisticRegression()\n",
    "\n",
    "# l1 lasso l2 ridge\n",
    "parameters ={\"C\":[0.01,0.1,1],'penalty':['l2'], 'solver':['lbfgs'] } \n",
    "\n",
    "#6.1 Create a GridSearchCV object and Fit the Logistic regression\n",
    "logreg_cv = GridSearchCV(lr, parameters, cv=10)\n",
    "logreg_cv.fit(X_train, Y_train)\n",
    "\n",
    "#6.2 Display the best parameters and the accuracy on the validation data\n",
    "print(\"Tuned hpyerparameters :(best parameters) \", logreg_cv.best_params_)\n",
    "print(\"Validation Data Accuracy :\", logreg_cv.best_score_)\n",
    "              \n",
    "#6.3 Calculate the Accuracy on the Test Data\n",
    "accuracy = logreg_cv.score(X_test,Y_test)\n",
    "print(\"Test Data Accuracy: \", accuracy)\n",
    "      \n",
    "#6.4 Create the confusion matrix with Y_test and yhat\n",
    "yhat = logreg_cv.predict(X_test)\n",
    "plot_confusion_matrix(Y_test,yhat)"
   ]
  },
  {
   "cell_type": "markdown",
   "id": "cf876ed5",
   "metadata": {},
   "source": [
    "<b>Observation: </b> By examining the confusion matrix, we see that logistic regression can distinguish between the different classes. We see that the major problem is false positives"
   ]
  },
  {
   "cell_type": "markdown",
   "id": "8d4079fd",
   "metadata": {},
   "source": [
    "7. Create a <b>Support Vector Machine</b> object then create a <b>GridSearchCV</b> object svm_cv with cv - 10. Fit the object to find the best parameters from the dictionary parameters."
   ]
  },
  {
   "cell_type": "code",
   "execution_count": 67,
   "id": "29f852d8",
   "metadata": {},
   "outputs": [
    {
     "name": "stdout",
     "output_type": "stream",
     "text": [
      "Tuned hpyerparameters :(best parameters)  {'C': 1.0, 'gamma': 0.03162277660168379, 'kernel': 'sigmoid'}\n",
      "Validation Data Accuracy : 0.8482142857142856\n",
      "Test Data Accuracy:  0.8333333333333334\n"
     ]
    },
    {
     "data": {
      "image/png": "[encoded data removed]",
      "text/plain": [
       "<Figure size 648x288 with 2 Axes>"
      ]
     },
     "metadata": {
      "needs_background": "light"
     },
     "output_type": "display_data"
    }
   ],
   "source": [
    "svm = SVC()\n",
    "parameters = {'kernel':('linear', 'rbf','poly','rbf', 'sigmoid'), 'C': np.logspace(-3, 3, 5), 'gamma':np.logspace(-3, 3, 5) }\n",
    "\n",
    "#7.1 Create a GridSearchCV object and Fit the Logistic regression\n",
    "svm_cv = GridSearchCV(svm, param_grid = parameters, scoring='accuracy', cv = 10)\n",
    "svm_cv.fit(X_train,Y_train)\n",
    "\n",
    "#7.2 Display the best parameters and the accuracy on the validation data\n",
    "print(\"Tuned hpyerparameters :(best parameters) \",svm_cv.best_params_)\n",
    "print(\"Validation Data Accuracy :\",svm_cv.best_score_)\n",
    "\n",
    "#7.3 Calculate the Accuracy on the Test data\n",
    "svm_cv_accuracy = svm_cv.score(X_test,Y_test)\n",
    "print(\"Test Data Accuracy: \", svm_cv_accuracy)\n",
    "\n",
    "#7.4 Plot Confusion Matrix with Y_tes and yhat\n",
    "yhat=svm_cv.predict(X_test)\n",
    "plot_confusion_matrix(Y_test,yhat)"
   ]
  },
  {
   "cell_type": "markdown",
   "id": "943919ee",
   "metadata": {},
   "source": [
    "8. Create a <b>Decision tree classifier</b> object then create a <b>GridSearchCV</b> object tree_cv with cv = 10. \n",
    "Fit the object to find the best parameters from the dictionary parameters"
   ]
  },
  {
   "cell_type": "code",
   "execution_count": 68,
   "id": "b29f3621",
   "metadata": {},
   "outputs": [
    {
     "name": "stdout",
     "output_type": "stream",
     "text": [
      "Tuned hpyerparameters :(best parameters)  {'criterion': 'entropy', 'max_depth': 4, 'max_features': 'auto', 'min_samples_leaf': 1, 'min_samples_split': 2, 'splitter': 'best'}\n",
      "Validation Data Accuracy : 0.9035714285714287\n",
      "Test Data Accuracy:  0.8888888888888888\n"
     ]
    },
    {
     "data": {
      "image/png": "[encoded data removed]",
      "text/plain": [
       "<Figure size 648x288 with 2 Axes>"
      ]
     },
     "metadata": {
      "needs_background": "light"
     },
     "output_type": "display_data"
    }
   ],
   "source": [
    "tree = DecisionTreeClassifier()\n",
    "\n",
    "parameters = {'criterion': ['gini', 'entropy'],\n",
    "     'splitter': ['best', 'random'],\n",
    "     'max_depth': [2*n for n in range(1,10)],\n",
    "     'max_features': ['auto', 'sqrt'],\n",
    "     'min_samples_leaf': [1, 2, 4],\n",
    "     'min_samples_split': [2, 5, 10]}\n",
    "\n",
    "#8.1 Create a GridSearchCV object and Fit the Logistic regression\n",
    "tree_cv = GridSearchCV(tree, parameters, cv=10 )\n",
    "tree_cv.fit(X_train,Y_train)\n",
    "\n",
    "#8.2 Display the best parameters and the accuracy on the validation data\n",
    "print(\"Tuned hpyerparameters :(best parameters) \",tree_cv.best_params_)\n",
    "print(\"Validation Data Accuracy :\",tree_cv.best_score_)\n",
    "\n",
    "#8.3 Calculate the Accuracy on the Test data\n",
    "tree_accuracy = tree_cv.score(X_test,Y_test)\n",
    "print(\"Test Data Accuracy: \", tree_accuracy)\n",
    "\n",
    "#8.4 Plot Confusion Matrix with Y_tes and yhat\n",
    "yhat = tree_cv.predict(X_test)\n",
    "plot_confusion_matrix(Y_test,yhat)"
   ]
  },
  {
   "cell_type": "markdown",
   "id": "06d23d96",
   "metadata": {},
   "source": [
    "9. Create a <b>K Nearest Neighbors</b> object then create a <b>GridSearchCV</b> object tree_cv with cv = 10. \n",
    "Fit the object to find the best parameters from the dictionary parameters"
   ]
  },
  {
   "cell_type": "code",
   "execution_count": 69,
   "id": "9dce3616",
   "metadata": {},
   "outputs": [
    {
     "name": "stdout",
     "output_type": "stream",
     "text": [
      "tuned hpyerparameters :(best parameters)  {'algorithm': 'auto', 'n_neighbors': 10, 'p': 1}\n",
      "accuracy : 0.8482142857142858\n",
      "Test Data Accuracy:  0.8333333333333334\n"
     ]
    },
    {
     "data": {
      "image/png": "[encoded data removed]",
      "text/plain": [
       "<Figure size 648x288 with 2 Axes>"
      ]
     },
     "metadata": {
      "needs_background": "light"
     },
     "output_type": "display_data"
    }
   ],
   "source": [
    "KNN = KNeighborsClassifier()\n",
    "\n",
    "parameters = {'n_neighbors': [1, 2, 3, 4, 5, 6, 7, 8, 9, 10],\n",
    "              'algorithm': ['auto', 'ball_tree', 'kd_tree', 'brute'],\n",
    "              'p': [1,2]}\n",
    "\n",
    "#9.1 Create a GridSearchCV object and Fit the Logistic regression\n",
    "knn_cv = GridSearchCV(KNN, parameters, cv=10)\n",
    "knn_cv.fit(X_train,Y_train)\n",
    "\n",
    "#9.2 Display the best parameters and the accuracy on the validation data\n",
    "print(\"tuned hpyerparameters :(best parameters) \",knn_cv.best_params_)\n",
    "print(\"accuracy :\",knn_cv.best_score_)\n",
    "\n",
    "#9.3 Calculate the Accuracy on the Test data\n",
    "accuracy_knn = knn_cv.score(X_test,Y_test)\n",
    "print(\"Test Data Accuracy: \", accuracy_knn)\n",
    "\n",
    "\n",
    "#9.4 Plot Confusion Matrix with Y_tes and yhat\n",
    "yhat = knn_cv.predict(X_test)\n",
    "plot_confusion_matrix(Y_test,yhat)"
   ]
  },
  {
   "cell_type": "markdown",
   "id": "b2bc4353",
   "metadata": {},
   "source": [
    "10. Find the method performs best:"
   ]
  },
  {
   "cell_type": "code",
   "execution_count": 70,
   "id": "cf4d0e09",
   "metadata": {},
   "outputs": [
    {
     "data": {
      "image/png": "[encoded data removed]",
      "text/plain": [
       "<Figure size 648x288 with 1 Axes>"
      ]
     },
     "metadata": {
      "needs_background": "light"
     },
     "output_type": "display_data"
    }
   ],
   "source": [
    "predictors = [knn_cv, svm_cv, logreg_cv, tree_cv]\n",
    "best_predictor = \"\"\n",
    "best_result = 0\n",
    "Algorithms_dict = {}\n",
    "\n",
    "for predictor in predictors:\n",
    "    Algorithms_dict[predictor.estimator] = predictor.score(X_test, Y_test)\n",
    "    \n",
    "Model_Names = list(Algorithms_dict.keys())\n",
    "Accuracy = list(Algorithms_dict.values())\n",
    "\n",
    "New_Model_Names = []\n",
    "\n",
    "for M in Model_Names:\n",
    "    M = str(M)\n",
    "    M = M.replace('()','')\n",
    "    New_Model_Names.append(M)\n",
    "    \n",
    "\n",
    "data = { 'Algorithm': New_Model_Names, 'Accuracy' : Accuracy }\n",
    "\n",
    "df = pd.DataFrame.from_dict(data)\n",
    "\n",
    "sns.barplot(x=\"Algorithm\", y=\"Accuracy\", data=df)\n",
    "plt.xlabel('Algorithm', fontsize=20)\n",
    "plt.ylabel('Accuracy', fontsize=20)\n",
    "plt.title('Bar plot of Classification Model Vs Accuracy')\n",
    "plt.rcParams['figure.figsize'] = [9, 4]\n",
    "plt.show()\n"
   ]
  },
  {
   "cell_type": "markdown",
   "id": "d7dbb328",
   "metadata": {},
   "source": [
    "<b>Observations: </b> All Algorithms are working fine. Among all, The Decision Tree classifier gave the best accuracy compare to remaining model."
   ]
  },
  {
   "cell_type": "code",
   "execution_count": null,
   "id": "f7905d50",
   "metadata": {},
   "outputs": [],
   "source": []
  },
  {
   "cell_type": "code",
   "execution_count": null,
   "id": "a15b6b22",
   "metadata": {},
   "outputs": [],
   "source": []
  },
  {
   "cell_type": "code",
   "execution_count": null,
   "id": "9dc80bdc",
   "metadata": {},
   "outputs": [],
   "source": []
  },
  {
   "cell_type": "code",
   "execution_count": null,
   "id": "31d79952",
   "metadata": {},
   "outputs": [],
   "source": []
  }
 ],
 "metadata": {
  "kernelspec": {
   "display_name": "Python 3",
   "language": "python",
   "name": "python3"
  },
  "language_info": {
   "codemirror_mode": {
    "name": "ipython",
    "version": 3
   },
   "file_extension": ".py",
   "mimetype": "text/x-python",
   "name": "python",
   "nbconvert_exporter": "python",
   "pygments_lexer": "ipython3",
   "version": "3.8.8"
  }
 },
 "nbformat": 4,
 "nbformat_minor": 5
}
