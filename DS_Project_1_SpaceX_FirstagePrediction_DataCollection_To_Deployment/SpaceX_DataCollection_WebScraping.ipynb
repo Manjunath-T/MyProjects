{
 "cells": [
  {
   "cell_type": "markdown",
   "id": "db2b5455",
   "metadata": {},
   "source": [
    "<h2>SpaceX Falcon9 Landing Prediction_Data Collection using WebScraping</h2>\n",
    "\n"
   ]
  },
  {
   "cell_type": "markdown",
   "id": "2e67f2d8",
   "metadata": {},
   "source": [
    "<h3> Data Collection using Web scraping Falcon 9 and Falcon Heavy Launches Records from Wikipedia</h3>"
   ]
  },
  {
   "cell_type": "code",
   "execution_count": null,
   "id": "956e7aca",
   "metadata": {},
   "outputs": [],
   "source": [
    "#Importing Libs\n",
    "import requests\n",
    "from bs4 import BeautifulSoup\n",
    "import unicodedata"
   ]
  },
  {
   "cell_type": "markdown",
   "id": "a7280d7d",
   "metadata": {},
   "source": [
    "1. By perform requests.get() method with the SpaceX Falcon9 wikipedia static_url to get the data, and assigning the response to a object"
   ]
  },
  {
   "cell_type": "code",
   "execution_count": null,
   "id": "6670d49b",
   "metadata": {},
   "outputs": [],
   "source": [
    "static_url = \"https://en.wikipedia.org/w/index.php?title=List_of_Falcon_9_and_Falcon_Heavy_launches&oldid=1027686922\"\n",
    "response = requests.get(static_url).text"
   ]
  },
  {
   "cell_type": "markdown",
   "id": "13a10d1b",
   "metadata": {},
   "source": [
    "2. Using BeautifulSoup() to create a BeautifulSoup object from a response text content."
   ]
  },
  {
   "cell_type": "code",
   "execution_count": null,
   "id": "08b72e74",
   "metadata": {},
   "outputs": [],
   "source": [
    "soup = BeautifulSoup(response, 'html.parser')\n",
    "#print(soup.title)"
   ]
  },
  {
   "cell_type": "markdown",
   "id": "73813aaf",
   "metadata": {},
   "source": [
    "3. Extract all column/variable names from the HTML <b>table</b> header"
   ]
  },
  {
   "cell_type": "code",
   "execution_count": null,
   "id": "6298e3ff",
   "metadata": {},
   "outputs": [],
   "source": [
    "# Using find_all function in the BeautifulSoup object, with element type `table` \n",
    "# And Assigned the result to a list called `html_tables`\n",
    "\n",
    "html_tables = soup.find_all('table')\n",
    "\n",
    "# We are going to verify the 3rd Table in the wiki page.\n",
    "first_launch_table = html_tables[2]"
   ]
  },
  {
   "cell_type": "markdown",
   "id": "de3a63e5",
   "metadata": {},
   "source": [
    "4. Extract all columns from header"
   ]
  },
  {
   "cell_type": "code",
   "execution_count": null,
   "id": "5d88f8ae",
   "metadata": {},
   "outputs": [],
   "source": [
    "#Using find_all() function with `th` element on first_launch_table\n",
    "\n",
    "column_names = []\n",
    "\n",
    "def extract_column_from_header(row):\n",
    "    \"\"\"\n",
    "    This function returns the landing status from the HTML table cell\n",
    "    Input: the  element of a table data cell extracts extra row\n",
    "    \"\"\"\n",
    "    if (row.br):\n",
    "        row.br.extract()\n",
    "    if row.a:\n",
    "        row.a.extract()\n",
    "    if row.sup:\n",
    "        row.sup.extract()\n",
    "        \n",
    "    colunm_name = ' '.join(row.contents)\n",
    "    \n",
    "    # Filter the digit and empty names\n",
    "    if not(colunm_name.strip().isdigit()):\n",
    "        colunm_name = colunm_name.strip()\n",
    "        return colunm_name    \n",
    "    \n",
    "\n",
    "temp = soup.find_all('th')\n",
    "for x in range(len(temp)):\n",
    "    try:\n",
    "        name = extract_column_from_header(temp[x])\n",
    "        if (name is not None and len(name) > 0):\n",
    "            column_names.append(name) \n",
    "    except:\n",
    "         pass\n",
    "print(column_names ,\"\\n\",len(column_names)  )\n"
   ]
  },
  {
   "cell_type": "markdown",
   "id": "cf149d92",
   "metadata": {},
   "source": [
    "5. Create a data frame by parsing the launch HTML tables"
   ]
  },
  {
   "cell_type": "markdown",
   "id": "b8e831a3",
   "metadata": {},
   "source": [
    "    5.1 create an empty dictionary with keys from the extracted column names"
   ]
  },
  {
   "cell_type": "code",
   "execution_count": null,
   "id": "6bdd0054",
   "metadata": {},
   "outputs": [],
   "source": [
    "launch_dict= dict.fromkeys(column_names)\n",
    "\n",
    "# Remove an irrelvant column\n",
    "del launch_dict['Date and time ( )']\n",
    "\n",
    "# Initializing the launch_dict with each value to be an empty list\n",
    "launch_dict['Flight No.'] = []\n",
    "launch_dict['Launch site'] = []\n",
    "launch_dict['Payload'] = []\n",
    "launch_dict['Payload mass'] = []\n",
    "launch_dict['Orbit'] = []\n",
    "launch_dict['Customer'] = []\n",
    "launch_dict['Launch outcome'] = []\n",
    "\n",
    "# Added some new columns\n",
    "launch_dict['Version Booster']=[]\n",
    "launch_dict['Booster landing']=[]\n",
    "launch_dict['Date']=[]\n",
    "launch_dict['Time']=[]"
   ]
  },
  {
   "cell_type": "markdown",
   "id": "810ae6d7",
   "metadata": {},
   "source": [
    "    5.2 Helpful Functions to extract Data From the each table row [tr]"
   ]
  },
  {
   "cell_type": "code",
   "execution_count": null,
   "id": "5b3e542e",
   "metadata": {},
   "outputs": [],
   "source": [
    "def date_time(table_cells):\n",
    "    \"\"\"\n",
    "    This function returns the data and time from the HTML  table cell\n",
    "    Input: the  element of a table data cell extracts extra row\n",
    "    \"\"\"\n",
    "    return [data_time.strip() for data_time in list(table_cells.strings)][0:2]\n",
    "\n",
    "def booster_version(table_cells):\n",
    "    \"\"\"\n",
    "    This function returns the booster version from the HTML  table cell \n",
    "    Input: the  element of a table data cell extracts extra row\n",
    "    \"\"\"\n",
    "    out=''.join([booster_version for i,booster_version in enumerate( table_cells.strings) if i%2==0][0:-1])\n",
    "    return out\n",
    "\n",
    "def landing_status(table_cells):\n",
    "    \"\"\"\n",
    "    This function returns the landing status from the HTML table cell \n",
    "    Input: the  element of a table data cell extracts extra row\n",
    "    \"\"\"\n",
    "    out=[i for i in table_cells.strings][0]\n",
    "    return out\n",
    "\n",
    "\n",
    "def get_mass(table_cells):\n",
    "    mass=unicodedata.normalize(\"NFKD\", table_cells.text).strip()\n",
    "    if mass:\n",
    "        mass.find(\"kg\")\n",
    "        new_mass=mass[0:mass.find(\"kg\")+2]\n",
    "    else:\n",
    "        new_mass=0\n",
    "    return new_mass\n",
    "\n",
    "\n",
    "def extract_column_from_header(row):\n",
    "    \"\"\"\n",
    "    This function returns the landing status from the HTML table cell \n",
    "    Input: the  element of a table data cell extracts extra row\n",
    "    \"\"\"\n",
    "    if (row.br):\n",
    "        row.br.extract()\n",
    "    if row.a:\n",
    "        row.a.extract()\n",
    "    if row.sup:\n",
    "        row.sup.extract()\n",
    "        \n",
    "    colunm_name = ' '.join(row.contents)\n",
    "    \n",
    "    # Filter the digit and empty names\n",
    "    if not(colunm_name.strip().isdigit()):\n",
    "        colunm_name = colunm_name.strip()\n",
    "        return colunm_name    \n"
   ]
  },
  {
   "cell_type": "markdown",
   "id": "2f12ee85",
   "metadata": {},
   "source": [
    "    5.3 Extracting row and each value and append the values to launch_dict dictionary"
   ]
  },
  {
   "cell_type": "code",
   "execution_count": null,
   "id": "4f44d74a",
   "metadata": {},
   "outputs": [],
   "source": [
    "extracted_row = 0\n",
    "#Extract each table  used find_all(tag, classname)\n",
    "for table_number,table in enumerate(soup.find_all('table',\"wikitable plainrowheaders collapsible\")):\n",
    "   # get table row \n",
    "    for rows in table.find_all(\"tr\"):\n",
    "        #check to see if first table heading is as number corresponding to launch a number\n",
    "        if rows.th:\n",
    "            if rows.th.string:\n",
    "                flight_number=rows.th.string.strip()\n",
    "                flag=flight_number.isdigit()\n",
    "        else:\n",
    "            flag=False\n",
    "        #get table element \n",
    "        row=rows.find_all('td')\n",
    "        \n",
    "        #if it is number save cells in a dictonary \n",
    "        if flag:\n",
    "            extracted_row += 1\n",
    "            # Flight Number value\n",
    "            # Append the flight_number into launch_dict with key `Flight No.`\n",
    "            print(\"flight_number:\", flight_number)\n",
    "            launch_dict['Flight No.'].append(flight_number)\n",
    "            \n",
    "            datatimelist=date_time(row[0])\n",
    "            \n",
    "            # Date value\n",
    "            # Append the date into launch_dict with key `Date`\n",
    "            \n",
    "            date = datatimelist[0].strip(',')\n",
    "            print(\"date:\", date)\n",
    "            launch_dict['Date'].append(date)\n",
    "            \n",
    "            # Time value\n",
    "            # Append the time into launch_dict with key `Time`\n",
    "            time = datatimelist[1]\n",
    "            print(\"time: \", time)\n",
    "            launch_dict['Time'].append(time)\n",
    "              \n",
    "            # Booster version\n",
    "            # Append the bv into launch_dict with key `Version Booster`\n",
    "            bv=booster_version(row[1])\n",
    "            if not(bv):\n",
    "                bv=row[1].a.string\n",
    "            print(\"Version Booster: \", bv)\n",
    "            launch_dict['Version Booster'].append(bv)\n",
    "            \n",
    "            # Launch Site\n",
    "            # Append the bv into launch_dict with key `Launch Site`\n",
    "            launch_site = row[2].a.string\n",
    "            print(\"launch_site: \", launch_site)\n",
    "            launch_dict['Launch site'].append(launch_site)\n",
    "            \n",
    "            # Payload\n",
    "            # Append the payload into launch_dict with key `Payload`\n",
    "            payload = row[3].a.string\n",
    "            print(\"payload: \", payload)\n",
    "            launch_dict['Payload'].append(payload)\n",
    "            \n",
    "            # Payload Mass\n",
    "            # Append the payload_mass into launch_dict with key `Payload mass`\n",
    "            payload_mass = get_mass(row[4])\n",
    "            print(\"payload_mass: \", payload_mass)\n",
    "            launch_dict['Payload mass'].append(payload_mass)\n",
    "            \n",
    "            # Orbit\n",
    "            # Append the orbit into launch_dict with key `Orbit`\n",
    "            orbit = row[5].a.string\n",
    "            print(\"orbit: \", orbit)\n",
    "            launch_dict['Orbit'].append(orbit)\n",
    "            \n",
    "            # Customer\n",
    "            # Append the customer into launch_dict with key `Customer`\n",
    "            try:\n",
    "                customer = row[6].a.string\n",
    "                print(\"customer: \", customer)\n",
    "                launch_dict['Customer'].append(customer)\n",
    "            except:\n",
    "                launch_dict['Customer'].append(None)\n",
    "            \n",
    "            # Launch outcome\n",
    "            # Append the launch_outcome into launch_dict with key `Launch outcome`\n",
    "            launch_outcome = list(row[7].strings)[0]\n",
    "            print(\"launch_outcome: \", launch_outcome)\n",
    "            launch_dict['Launch outcome'].append(launch_outcome)\n",
    "            \n",
    "            # Booster landing\n",
    "            # Append the launch_outcome into launch_dict with key `Booster landing`\n",
    "            booster_landing = landing_status(row[8])\n",
    "            print(\"booster_landing: \", booster_landing)\n",
    "            launch_dict['Booster landing'].append(booster_landing)\n",
    "            print(\"-----------------------------------------------------\")\n",
    "            "
   ]
  },
  {
   "cell_type": "markdown",
   "id": "72eca4cb",
   "metadata": {},
   "source": [
    "    5.4 Create a dataframe from Filled parsed launch record values in launch_dict"
   ]
  },
  {
   "cell_type": "code",
   "execution_count": null,
   "id": "4844dbc0",
   "metadata": {},
   "outputs": [],
   "source": [
    "import pandas as pd\n",
    "headings = []\n",
    "hcount =0 \n",
    "nhcount = 0\n",
    "#Remove the None Values and corresponding keys from the dictionary\n",
    "for key,values in dict(launch_dict).items():\n",
    "    if key not in headings:\n",
    "        headings.append(key)\n",
    "    if values is None:\n",
    "        del launch_dict[key]\n",
    "\n",
    "df = pd.DataFrame.from_dict(launch_dict)\n",
    "df.head()\n",
    "\n",
    "pd.isnull(df).sum()\n",
    "#pd.isna(df).sum()\n"
   ]
  },
  {
   "cell_type": "markdown",
   "id": "2102580d",
   "metadata": {},
   "source": [
    "6. Export the DataFrame to a CSV file"
   ]
  },
  {
   "cell_type": "code",
   "execution_count": null,
   "id": "b95141d8",
   "metadata": {},
   "outputs": [],
   "source": [
    "df.to_csv('SpaceX_Web_Scraped_TMN.csv', index=False)"
   ]
  },
  {
   "cell_type": "code",
   "execution_count": null,
   "id": "8aa808a5",
   "metadata": {},
   "outputs": [],
   "source": []
  }
 ],
 "metadata": {
  "kernelspec": {
   "display_name": "Python 3",
   "language": "python",
   "name": "python3"
  },
  "language_info": {
   "codemirror_mode": {
    "name": "ipython",
    "version": 3
   },
   "file_extension": ".py",
   "mimetype": "text/x-python",
   "name": "python",
   "nbconvert_exporter": "python",
   "pygments_lexer": "ipython3",
   "version": "3.8.8"
  }
 },
 "nbformat": 4,
 "nbformat_minor": 5
}
